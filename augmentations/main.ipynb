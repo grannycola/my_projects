{
 "cells": [
  {
   "cell_type": "code",
   "execution_count": 104,
   "id": "a7b373c3",
   "metadata": {},
   "outputs": [],
   "source": [
    "import torch\n",
    "import json\n",
    "import cv2\n",
    "import numpy as np\n",
    "import os\n",
    "import torch.utils.data as data\n",
    "import glob\n",
    "from matplotlib import pyplot as plt\n",
    "from pywget import wget"
   ]
  },
  {
   "cell_type": "code",
   "execution_count": 105,
   "id": "c846c4b4",
   "metadata": {},
   "outputs": [],
   "source": [
    "# link = \"https://github.com/matterport/Mask_RCNN/releases/download/v2.1/balloon_dataset.zip\"\n",
    "# wget.download(link)"
   ]
  },
  {
   "cell_type": "code",
   "execution_count": 106,
   "id": "6490ac13",
   "metadata": {},
   "outputs": [],
   "source": [
    "# !unzip balloon_dataset.zip"
   ]
  },
  {
   "cell_type": "code",
   "execution_count": 139,
   "id": "1ccabcf6",
   "metadata": {},
   "outputs": [],
   "source": [
    "class BalloonDatasetSegmentation(data.Dataset):\n",
    "    def __init__(self, folder_path):\n",
    "        super(BalloonDatasetSegmentation, self).__init__()\n",
    "        self.img_files = glob.glob(os.path.join(folder_path, '*.jpg'))\n",
    "        self.mask_files = []\n",
    "        \n",
    "        for img_path in self.img_files:\n",
    "            self.mask_files.append(os.path.join(folder_path, os.path.splitext(os.path.basename(img_path))[0] + '_mask.png'))\n",
    "    def __getitem__(self, index):\n",
    "            img_path = self.img_files[index]\n",
    "            mask_path = self.mask_files[index]\n",
    "            data = cv2.imread(img_path)\n",
    "            label = cv2. imread(mask_path)\n",
    "            return torch.from_numpy(data).float(), torch.from_numpy(label).float()\n",
    "\n",
    "    def __len__(self):\n",
    "        return len(self.img_files)"
   ]
  },
  {
   "cell_type": "code",
   "execution_count": 134,
   "id": "f8cd799b",
   "metadata": {},
   "outputs": [],
   "source": [
    "def create_labels(dataset_type='train'):\n",
    "    f = open(f'balloon\\\\{dataset_type}\\\\via_region_data.json')\n",
    "    json_file = json.load(f)\n",
    "    for file in json_file:\n",
    "        path = f'balloon\\\\{dataset_type}'\n",
    "        filename = json_file[file]['filename']\n",
    "\n",
    "        path_to_mask = f\"{path}\\\\{filename.replace('.jpg', '_mask.png')}\"\n",
    "\n",
    "        if os.path.exists(path_to_mask):\n",
    "            continue\n",
    "        else:                \n",
    "            img = cv2.imread(f'{path}\\\\{filename}')\n",
    "            img = cv2.cvtColor(img, cv2.COLOR_BGR2RGB)\n",
    "\n",
    "\n",
    "            regions = json_file[file]['regions']\n",
    "            label = np.zeros_like(img)\n",
    "\n",
    "            for n in regions:\n",
    "                mask = np.zeros((img.shape[0], img.shape[1]))\n",
    "                x_coords = regions[n]['shape_attributes']['all_points_x']\n",
    "                y_coords = regions[n]['shape_attributes']['all_points_y']\n",
    "                coords_of_polygon = np.dstack((x_coords, y_coords))\n",
    "\n",
    "                cv2.fillConvexPoly(mask, coords_of_polygon, 1)\n",
    "                mask = mask.astype(bool)\n",
    "                label[mask] = 1\n",
    "            cv2.imwrite(path_to_mask, label)"
   ]
  },
  {
   "cell_type": "code",
   "execution_count": 135,
   "id": "60028412",
   "metadata": {},
   "outputs": [],
   "source": [
    "create_labels('train')\n",
    "create_labels('val')"
   ]
  },
  {
   "cell_type": "code",
   "execution_count": 141,
   "id": "6b6cf60e",
   "metadata": {},
   "outputs": [],
   "source": [
    "train_dataset = BalloonDatasetSegmentation('balloon\\\\train')\n",
    "val_dataset = BalloonDatasetSegmentation('balloon\\\\val')"
   ]
  },
  {
   "cell_type": "code",
   "execution_count": null,
   "id": "553ca44a",
   "metadata": {},
   "outputs": [],
   "source": []
  }
 ],
 "metadata": {
  "kernelspec": {
   "display_name": "Python 3 (ipykernel)",
   "language": "python",
   "name": "python3"
  },
  "language_info": {
   "codemirror_mode": {
    "name": "ipython",
    "version": 3
   },
   "file_extension": ".py",
   "mimetype": "text/x-python",
   "name": "python",
   "nbconvert_exporter": "python",
   "pygments_lexer": "ipython3",
   "version": "3.9.15"
  }
 },
 "nbformat": 4,
 "nbformat_minor": 5
}
