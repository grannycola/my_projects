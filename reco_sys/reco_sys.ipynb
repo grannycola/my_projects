{
 "cells": [
  {
   "cell_type": "code",
   "execution_count": 1,
   "id": "2e208cdb",
   "metadata": {},
   "outputs": [],
   "source": [
    "import pandas as pd\n",
    "import warnings\n",
    "warnings.simplefilter('ignore')\n",
    "import numpy as np\n",
    "from tqdm import tqdm\n",
    "from sklearn.metrics import mean_squared_error\n",
    "from sklearn.metrics.pairwise import cosine_similarity\n",
    "from sklearn.base import BaseEstimator"
   ]
  },
  {
   "cell_type": "code",
   "execution_count": 2,
   "id": "a4994cb7",
   "metadata": {},
   "outputs": [],
   "source": [
    "def train_test_split(X, ratio=0.2, user_col='reviewerID', item_col='asin',\n",
    "                     rating_col='overall', time_col='unixReviewTime'):\n",
    "    # сортируем оценки по времени\n",
    "    X.sort_values(by=[time_col], inplace=True)\n",
    "    # список всех юзеров\n",
    "    userIds = X[user_col].unique()\n",
    "    X_train_data = []\n",
    "    X_test_data = []\n",
    "    y_train = []\n",
    "    y_test = []\n",
    "    for userId in tqdm(userIds):\n",
    "        curUser = X[X[user_col] == userId]\n",
    "        # определяем позицию, по которой делим выборку и размещаем данные по массивам\n",
    "        idx = int(curUser.shape[0] * (1 - ratio))\n",
    "        X_train_data.append(curUser[[user_col, item_col]].iloc[:idx, :].values)\n",
    "        X_test_data.append(curUser[[user_col, item_col]].iloc[idx:, :].values)\n",
    "        y_train.append(curUser[rating_col].values[:idx])\n",
    "        y_test.append(curUser[rating_col].values[idx:])\n",
    "    # cтекуем данные по каждому пользователю в общие массивы\n",
    "    X_train = pd.DataFrame(np.vstack(X_train_data), columns=[user_col, item_col])\n",
    "    X_test = pd.DataFrame(np.vstack(X_test_data), columns=[user_col, item_col])\n",
    "    y_train = np.hstack(y_train)\n",
    "    y_test = np.hstack(y_test)\n",
    "    return X_train, X_test, y_train, y_test"
   ]
  },
  {
   "cell_type": "code",
   "execution_count": 3,
   "id": "d3bfe89e",
   "metadata": {},
   "outputs": [],
   "source": [
    "df = pd.read_json('Digital_Music_5.json', lines=True)"
   ]
  },
  {
   "cell_type": "code",
   "execution_count": 4,
   "id": "fa230175",
   "metadata": {},
   "outputs": [
    {
     "data": {
      "text/html": [
       "<div>\n",
       "<style scoped>\n",
       "    .dataframe tbody tr th:only-of-type {\n",
       "        vertical-align: middle;\n",
       "    }\n",
       "\n",
       "    .dataframe tbody tr th {\n",
       "        vertical-align: top;\n",
       "    }\n",
       "\n",
       "    .dataframe thead th {\n",
       "        text-align: right;\n",
       "    }\n",
       "</style>\n",
       "<table border=\"1\" class=\"dataframe\">\n",
       "  <thead>\n",
       "    <tr style=\"text-align: right;\">\n",
       "      <th></th>\n",
       "      <th>overall</th>\n",
       "      <th>reviewerID</th>\n",
       "      <th>unixReviewTime</th>\n",
       "    </tr>\n",
       "  </thead>\n",
       "  <tbody>\n",
       "    <tr>\n",
       "      <th>0</th>\n",
       "      <td>5</td>\n",
       "      <td>A2TYZ821XXK2YZ</td>\n",
       "      <td>1370217600</td>\n",
       "    </tr>\n",
       "    <tr>\n",
       "      <th>1</th>\n",
       "      <td>5</td>\n",
       "      <td>A3OFSREZADFUDY</td>\n",
       "      <td>1412985600</td>\n",
       "    </tr>\n",
       "    <tr>\n",
       "      <th>2</th>\n",
       "      <td>5</td>\n",
       "      <td>A2VAMODP8M77NG</td>\n",
       "      <td>1392076800</td>\n",
       "    </tr>\n",
       "    <tr>\n",
       "      <th>3</th>\n",
       "      <td>4</td>\n",
       "      <td>AAKSLZ9IDTEH0</td>\n",
       "      <td>1386374400</td>\n",
       "    </tr>\n",
       "    <tr>\n",
       "      <th>4</th>\n",
       "      <td>5</td>\n",
       "      <td>A3OH43OZJLKI09</td>\n",
       "      <td>1465689600</td>\n",
       "    </tr>\n",
       "    <tr>\n",
       "      <th>...</th>\n",
       "      <td>...</td>\n",
       "      <td>...</td>\n",
       "      <td>...</td>\n",
       "    </tr>\n",
       "    <tr>\n",
       "      <th>169776</th>\n",
       "      <td>5</td>\n",
       "      <td>A1SR2T84IXOMAQ</td>\n",
       "      <td>1534636800</td>\n",
       "    </tr>\n",
       "    <tr>\n",
       "      <th>169777</th>\n",
       "      <td>5</td>\n",
       "      <td>A2SR3DWJR1PYR6</td>\n",
       "      <td>1521331200</td>\n",
       "    </tr>\n",
       "    <tr>\n",
       "      <th>169778</th>\n",
       "      <td>5</td>\n",
       "      <td>A24V7X30NIMOIY</td>\n",
       "      <td>1520380800</td>\n",
       "    </tr>\n",
       "    <tr>\n",
       "      <th>169779</th>\n",
       "      <td>5</td>\n",
       "      <td>A1LW10GYP2EYM1</td>\n",
       "      <td>1518393600</td>\n",
       "    </tr>\n",
       "    <tr>\n",
       "      <th>169780</th>\n",
       "      <td>5</td>\n",
       "      <td>A26TH3YW0QWPI7</td>\n",
       "      <td>1517011200</td>\n",
       "    </tr>\n",
       "  </tbody>\n",
       "</table>\n",
       "<p>169781 rows × 3 columns</p>\n",
       "</div>"
      ],
      "text/plain": [
       "        overall      reviewerID  unixReviewTime\n",
       "0             5  A2TYZ821XXK2YZ      1370217600\n",
       "1             5  A3OFSREZADFUDY      1412985600\n",
       "2             5  A2VAMODP8M77NG      1392076800\n",
       "3             4   AAKSLZ9IDTEH0      1386374400\n",
       "4             5  A3OH43OZJLKI09      1465689600\n",
       "...         ...             ...             ...\n",
       "169776        5  A1SR2T84IXOMAQ      1534636800\n",
       "169777        5  A2SR3DWJR1PYR6      1521331200\n",
       "169778        5  A24V7X30NIMOIY      1520380800\n",
       "169779        5  A1LW10GYP2EYM1      1518393600\n",
       "169780        5  A26TH3YW0QWPI7      1517011200\n",
       "\n",
       "[169781 rows x 3 columns]"
      ]
     },
     "execution_count": 4,
     "metadata": {},
     "output_type": "execute_result"
    }
   ],
   "source": [
    "df[['overall', 'reviewerID', 'unixReviewTime']]"
   ]
  },
  {
   "cell_type": "code",
   "execution_count": 5,
   "id": "8ae526a9",
   "metadata": {},
   "outputs": [
    {
     "name": "stderr",
     "output_type": "stream",
     "text": [
      "100%|██████████| 16566/16566 [07:50<00:00, 35.22it/s]\n"
     ]
    }
   ],
   "source": [
    "X_train, X_test, y_train, y_test = train_test_split(df)"
   ]
  },
  {
   "cell_type": "code",
   "execution_count": null,
   "id": "63538cca",
   "metadata": {},
   "outputs": [],
   "source": []
  }
 ],
 "metadata": {
  "kernelspec": {
   "display_name": "Python 3 (ipykernel)",
   "language": "python",
   "name": "python3"
  },
  "language_info": {
   "codemirror_mode": {
    "name": "ipython",
    "version": 3
   },
   "file_extension": ".py",
   "mimetype": "text/x-python",
   "name": "python",
   "nbconvert_exporter": "python",
   "pygments_lexer": "ipython3",
   "version": "3.8.15"
  }
 },
 "nbformat": 4,
 "nbformat_minor": 5
}
