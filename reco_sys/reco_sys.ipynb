{
 "cells": [
  {
   "cell_type": "code",
   "execution_count": 1,
   "id": "2e208cdb",
   "metadata": {},
   "outputs": [],
   "source": [
    "import pandas as pd\n",
    "import numpy as np\n",
    "from tqdm import tqdm\n",
    "from sklearn.metrics import mean_squared_error\n",
    "from sklearn.metrics.pairwise import cosine_similarity\n",
    "from sklearn.base import BaseEstimator\n",
    "import requests\n",
    "import zipfile\n",
    "from io import BytesIO\n",
    "\n",
    "from surprise import Dataset, Reader, KNNBasic, SVD\n",
    "from surprise.model_selection import cross_validate, split"
   ]
  },
  {
   "cell_type": "code",
   "execution_count": 2,
   "id": "c9112c68",
   "metadata": {},
   "outputs": [],
   "source": [
    "import warnings\n",
    "warnings.simplefilter('ignore')"
   ]
  },
  {
   "cell_type": "markdown",
   "id": "19cbe1ef",
   "metadata": {},
   "source": [
    "## Вспомогательные функции и классы"
   ]
  },
  {
   "cell_type": "code",
   "execution_count": 3,
   "id": "a4994cb7",
   "metadata": {},
   "outputs": [],
   "source": [
    "rmse = lambda y_true, y_pred: np.sqrt(mean_squared_error(y_true, y_pred))\n",
    "\n",
    "def train_test_split(X, ratio=0.2, user_col='reviewerID', item_col='asin',\n",
    "                     rating_col='overall', time_col='unixReviewTime'):\n",
    "    X.sort_values(by=[time_col], inplace=True)\n",
    "    \n",
    "    userIds = X[user_col].unique()\n",
    "    X_train_data = []\n",
    "    X_test_data = []\n",
    "    y_train = []\n",
    "    y_test = []\n",
    "    for userId in tqdm(userIds):\n",
    "        curUser = X[X[user_col] == userId]\n",
    "        idx = int(curUser.shape[0] * (1 - ratio))\n",
    "        X_train_data.append(curUser[[user_col, item_col]].iloc[:idx, :].values)\n",
    "        X_test_data.append(curUser[[user_col, item_col]].iloc[idx:, :].values)\n",
    "        y_train.append(curUser[rating_col].values[:idx])\n",
    "        y_test.append(curUser[rating_col].values[idx:])\n",
    "        \n",
    "    X_train = pd.DataFrame(np.vstack(X_train_data), columns=[user_col, item_col])\n",
    "    X_test = pd.DataFrame(np.vstack(X_test_data), columns=[user_col, item_col])\n",
    "    y_train = np.hstack(y_train)\n",
    "    y_test = np.hstack(y_test)\n",
    "    return X_train, X_test, y_train, y_test"
   ]
  },
  {
   "cell_type": "code",
   "execution_count": 4,
   "id": "b244eeea",
   "metadata": {},
   "outputs": [],
   "source": [
    "class ItemBased(BaseEstimator):\n",
    "    def fit(self, X, y, user_col='reviewerID', item_col='asin'):\n",
    "        X = X.copy()\n",
    "        self.users = X[user_col].unique()\n",
    "        self.items = X[item_col].unique()\n",
    "        \n",
    "        X['y'] = y\n",
    "        self.mean_y_user = X.groupby(user_col)['y'].mean()\n",
    "        self.mean_y_item = X.groupby(item_col)['y'].mean()\n",
    "\n",
    "        X['y'] -= X[item_col].apply(lambda x: self.mean_y_item[x])\n",
    "        \n",
    "\n",
    "        self.item_ratings = pd.pivot_table(X, values='y', index=item_col,\n",
    "                                           columns=user_col, fill_value=0)\n",
    "\n",
    "        self.item_sim = cosine_similarity(self.item_ratings)\n",
    "\n",
    "        self.item_pos = dict()\n",
    "        for item in self.items:\n",
    "            self.item_pos[item] = np.argwhere(self.item_ratings.index.values == item)[0][0]\n",
    "        return self\n",
    "    \n",
    "    def predict_rating(self, pr_user, pr_item):\n",
    "        \n",
    "        if not pr_item in self.items or not pr_user in self.users:\n",
    "            return 0\n",
    "        numerator = self.item_sim[self.item_pos[pr_item]].dot(\n",
    "                        self.item_ratings.loc[:, pr_user])   \n",
    "        denominator = np.abs(self.item_sim[self.item_pos[pr_item]]).sum() - 1\n",
    "        \n",
    "        return self.mean_y_item[pr_item] + numerator / denominator\n",
    "    \n",
    "    def predict(self, X, user_col='reviewerID', item_col='asin'):\n",
    "        y = X[[user_col, item_col]].apply(lambda row: self.predict_rating(row[0], row[1]), axis=1)\n",
    "        return y"
   ]
  },
  {
   "cell_type": "markdown",
   "id": "f72b0488",
   "metadata": {},
   "source": [
    "## Загрузка данных"
   ]
  },
  {
   "cell_type": "code",
   "execution_count": 5,
   "id": "d3bfe89e",
   "metadata": {},
   "outputs": [],
   "source": [
    "df = pd.read_json('Digital_Music_5.json', lines=True)"
   ]
  },
  {
   "cell_type": "code",
   "execution_count": 6,
   "id": "fa230175",
   "metadata": {},
   "outputs": [
    {
     "data": {
      "text/html": [
       "<div>\n",
       "<style scoped>\n",
       "    .dataframe tbody tr th:only-of-type {\n",
       "        vertical-align: middle;\n",
       "    }\n",
       "\n",
       "    .dataframe tbody tr th {\n",
       "        vertical-align: top;\n",
       "    }\n",
       "\n",
       "    .dataframe thead th {\n",
       "        text-align: right;\n",
       "    }\n",
       "</style>\n",
       "<table border=\"1\" class=\"dataframe\">\n",
       "  <thead>\n",
       "    <tr style=\"text-align: right;\">\n",
       "      <th></th>\n",
       "      <th>overall</th>\n",
       "      <th>vote</th>\n",
       "      <th>verified</th>\n",
       "      <th>reviewTime</th>\n",
       "      <th>reviewerID</th>\n",
       "      <th>asin</th>\n",
       "      <th>style</th>\n",
       "      <th>reviewerName</th>\n",
       "      <th>reviewText</th>\n",
       "      <th>summary</th>\n",
       "      <th>unixReviewTime</th>\n",
       "      <th>image</th>\n",
       "    </tr>\n",
       "  </thead>\n",
       "  <tbody>\n",
       "    <tr>\n",
       "      <th>0</th>\n",
       "      <td>5</td>\n",
       "      <td>3.0</td>\n",
       "      <td>True</td>\n",
       "      <td>06 3, 2013</td>\n",
       "      <td>A2TYZ821XXK2YZ</td>\n",
       "      <td>3426958910</td>\n",
       "      <td>{'Format:': ' Audio CD'}</td>\n",
       "      <td>Garrett</td>\n",
       "      <td>This is awesome to listen to, A must-have for ...</td>\n",
       "      <td>Slayer Rules!</td>\n",
       "      <td>1370217600</td>\n",
       "      <td>NaN</td>\n",
       "    </tr>\n",
       "    <tr>\n",
       "      <th>1</th>\n",
       "      <td>5</td>\n",
       "      <td>NaN</td>\n",
       "      <td>True</td>\n",
       "      <td>10 11, 2014</td>\n",
       "      <td>A3OFSREZADFUDY</td>\n",
       "      <td>3426958910</td>\n",
       "      <td>{'Format:': ' Audio CD'}</td>\n",
       "      <td>Ad</td>\n",
       "      <td>bien</td>\n",
       "      <td>Five Stars</td>\n",
       "      <td>1412985600</td>\n",
       "      <td>NaN</td>\n",
       "    </tr>\n",
       "    <tr>\n",
       "      <th>2</th>\n",
       "      <td>5</td>\n",
       "      <td>NaN</td>\n",
       "      <td>True</td>\n",
       "      <td>02 11, 2014</td>\n",
       "      <td>A2VAMODP8M77NG</td>\n",
       "      <td>3426958910</td>\n",
       "      <td>{'Format:': ' Audio CD'}</td>\n",
       "      <td>JTGabq</td>\n",
       "      <td>It was great to hear the old stuff again and I...</td>\n",
       "      <td>SLAYER!!!!!!!!!!!!!!!!!!!!!</td>\n",
       "      <td>1392076800</td>\n",
       "      <td>NaN</td>\n",
       "    </tr>\n",
       "    <tr>\n",
       "      <th>3</th>\n",
       "      <td>4</td>\n",
       "      <td>3.0</td>\n",
       "      <td>False</td>\n",
       "      <td>12 7, 2013</td>\n",
       "      <td>AAKSLZ9IDTEH0</td>\n",
       "      <td>3426958910</td>\n",
       "      <td>{'Format:': ' Audio CD'}</td>\n",
       "      <td>john F&amp;#039;n doe</td>\n",
       "      <td>well best of's are a bit poison normally but t...</td>\n",
       "      <td>slayer greatest hits! you mean everything righ...</td>\n",
       "      <td>1386374400</td>\n",
       "      <td>NaN</td>\n",
       "    </tr>\n",
       "    <tr>\n",
       "      <th>4</th>\n",
       "      <td>5</td>\n",
       "      <td>NaN</td>\n",
       "      <td>True</td>\n",
       "      <td>06 12, 2016</td>\n",
       "      <td>A3OH43OZJLKI09</td>\n",
       "      <td>5557706259</td>\n",
       "      <td>{'Format:': ' Audio CD'}</td>\n",
       "      <td>melinda a goodman</td>\n",
       "      <td>What can I say? This is Casting Crowns!!!This ...</td>\n",
       "      <td>This is a good, blessing filled</td>\n",
       "      <td>1465689600</td>\n",
       "      <td>NaN</td>\n",
       "    </tr>\n",
       "  </tbody>\n",
       "</table>\n",
       "</div>"
      ],
      "text/plain": [
       "   overall  vote  verified   reviewTime      reviewerID        asin  \\\n",
       "0        5   3.0      True   06 3, 2013  A2TYZ821XXK2YZ  3426958910   \n",
       "1        5   NaN      True  10 11, 2014  A3OFSREZADFUDY  3426958910   \n",
       "2        5   NaN      True  02 11, 2014  A2VAMODP8M77NG  3426958910   \n",
       "3        4   3.0     False   12 7, 2013   AAKSLZ9IDTEH0  3426958910   \n",
       "4        5   NaN      True  06 12, 2016  A3OH43OZJLKI09  5557706259   \n",
       "\n",
       "                      style       reviewerName  \\\n",
       "0  {'Format:': ' Audio CD'}            Garrett   \n",
       "1  {'Format:': ' Audio CD'}                 Ad   \n",
       "2  {'Format:': ' Audio CD'}             JTGabq   \n",
       "3  {'Format:': ' Audio CD'}  john F&#039;n doe   \n",
       "4  {'Format:': ' Audio CD'}  melinda a goodman   \n",
       "\n",
       "                                          reviewText  \\\n",
       "0  This is awesome to listen to, A must-have for ...   \n",
       "1                                               bien   \n",
       "2  It was great to hear the old stuff again and I...   \n",
       "3  well best of's are a bit poison normally but t...   \n",
       "4  What can I say? This is Casting Crowns!!!This ...   \n",
       "\n",
       "                                             summary  unixReviewTime image  \n",
       "0                                      Slayer Rules!      1370217600   NaN  \n",
       "1                                         Five Stars      1412985600   NaN  \n",
       "2                        SLAYER!!!!!!!!!!!!!!!!!!!!!      1392076800   NaN  \n",
       "3  slayer greatest hits! you mean everything righ...      1386374400   NaN  \n",
       "4                    This is a good, blessing filled      1465689600   NaN  "
      ]
     },
     "execution_count": 6,
     "metadata": {},
     "output_type": "execute_result"
    }
   ],
   "source": [
    "df.head()"
   ]
  },
  {
   "cell_type": "markdown",
   "id": "6a3cc238",
   "metadata": {},
   "source": [
    "## EDA"
   ]
  },
  {
   "cell_type": "code",
   "execution_count": 47,
   "id": "0491b50a",
   "metadata": {},
   "outputs": [
    {
     "name": "stdout",
     "output_type": "stream",
     "text": [
      "Length of data set = 169781\n"
     ]
    }
   ],
   "source": [
    "print(f'Length of data set = {len(df)}')"
   ]
  },
  {
   "cell_type": "code",
   "execution_count": 48,
   "id": "90525c10",
   "metadata": {},
   "outputs": [
    {
     "name": "stdout",
     "output_type": "stream",
     "text": [
      "Unique ratings [5, 4, 2, 3, 1]\n"
     ]
    }
   ],
   "source": [
    "print(f\"Unique ratings {list(df['overall'].unique())}\") # Какие бывают рейтинги"
   ]
  },
  {
   "cell_type": "code",
   "execution_count": 49,
   "id": "6b1af317",
   "metadata": {},
   "outputs": [
    {
     "name": "stdout",
     "output_type": "stream",
     "text": [
      "Unique products 11797\n"
     ]
    }
   ],
   "source": [
    "print(f\"Unique products {len(df['asin'].unique())}\") # Количество уникальных  треков"
   ]
  },
  {
   "cell_type": "code",
   "execution_count": 50,
   "id": "5f85aa02",
   "metadata": {},
   "outputs": [
    {
     "name": "stdout",
     "output_type": "stream",
     "text": [
      "Unique users 16566\n"
     ]
    }
   ],
   "source": [
    "print(f\"Unique users {len(df['reviewerID'].unique())}\") # Количество уникальных  треков"
   ]
  },
  {
   "cell_type": "code",
   "execution_count": 62,
   "id": "b3c38c37",
   "metadata": {},
   "outputs": [
    {
     "name": "stdout",
     "output_type": "stream",
     "text": [
      "Ratings from 1998-07-09 to 2018-09-26\n"
     ]
    }
   ],
   "source": [
    "from datetime import datetime\n",
    "\n",
    "def show_date(value):\n",
    "    return datetime.utcfromtimestamp(value).strftime('%Y-%m-%d')\n",
    "\n",
    "print(f\"Ratings from {show_date(min(df['unixReviewTime']))} to {show_date(max(df['unixReviewTime']))}\")"
   ]
  },
  {
   "cell_type": "code",
   "execution_count": 7,
   "id": "8ae526a9",
   "metadata": {},
   "outputs": [
    {
     "name": "stderr",
     "output_type": "stream",
     "text": [
      "100%|██████████| 16566/16566 [07:05<00:00, 38.94it/s]\n"
     ]
    }
   ],
   "source": [
    "X_train, X_test, y_train, y_test = train_test_split(df)"
   ]
  },
  {
   "cell_type": "code",
   "execution_count": 8,
   "id": "f4aeb05d",
   "metadata": {},
   "outputs": [
    {
     "name": "stdout",
     "output_type": "stream",
     "text": [
      "start fitting...\n",
      "start predicting...\n",
      "rmse = 0.7262795807059841\n",
      "CPU times: total: 1min 59s\n",
      "Wall time: 52 s\n"
     ]
    }
   ],
   "source": [
    "%%time\n",
    "print('start fitting...')\n",
    "ib = ItemBased().fit(X_train, y_train)\n",
    "print('start predicting...')\n",
    "print('rmse = {}'.format(rmse(y_test, ib.predict(X_test))))"
   ]
  },
  {
   "cell_type": "code",
   "execution_count": 13,
   "id": "1f680aa2",
   "metadata": {},
   "outputs": [],
   "source": [
    "df = df.rename(columns={\"reviewerID\": \"userID\", \"asin\": \"itemID\", \"overall\": \"rating\", \"unixReviewTime\": \"timestamp\"})"
   ]
  },
  {
   "cell_type": "code",
   "execution_count": 14,
   "id": "7d13eecd",
   "metadata": {},
   "outputs": [
    {
     "data": {
      "text/html": [
       "<div>\n",
       "<style scoped>\n",
       "    .dataframe tbody tr th:only-of-type {\n",
       "        vertical-align: middle;\n",
       "    }\n",
       "\n",
       "    .dataframe tbody tr th {\n",
       "        vertical-align: top;\n",
       "    }\n",
       "\n",
       "    .dataframe thead th {\n",
       "        text-align: right;\n",
       "    }\n",
       "</style>\n",
       "<table border=\"1\" class=\"dataframe\">\n",
       "  <thead>\n",
       "    <tr style=\"text-align: right;\">\n",
       "      <th></th>\n",
       "      <th>userID</th>\n",
       "      <th>itemID</th>\n",
       "      <th>rating</th>\n",
       "      <th>timestamp</th>\n",
       "    </tr>\n",
       "  </thead>\n",
       "  <tbody>\n",
       "    <tr>\n",
       "      <th>0</th>\n",
       "      <td>A2TYZ821XXK2YZ</td>\n",
       "      <td>3426958910</td>\n",
       "      <td>5</td>\n",
       "      <td>1370217600</td>\n",
       "    </tr>\n",
       "    <tr>\n",
       "      <th>1</th>\n",
       "      <td>A3OFSREZADFUDY</td>\n",
       "      <td>3426958910</td>\n",
       "      <td>5</td>\n",
       "      <td>1412985600</td>\n",
       "    </tr>\n",
       "    <tr>\n",
       "      <th>2</th>\n",
       "      <td>A2VAMODP8M77NG</td>\n",
       "      <td>3426958910</td>\n",
       "      <td>5</td>\n",
       "      <td>1392076800</td>\n",
       "    </tr>\n",
       "    <tr>\n",
       "      <th>3</th>\n",
       "      <td>AAKSLZ9IDTEH0</td>\n",
       "      <td>3426958910</td>\n",
       "      <td>4</td>\n",
       "      <td>1386374400</td>\n",
       "    </tr>\n",
       "    <tr>\n",
       "      <th>4</th>\n",
       "      <td>A3OH43OZJLKI09</td>\n",
       "      <td>5557706259</td>\n",
       "      <td>5</td>\n",
       "      <td>1465689600</td>\n",
       "    </tr>\n",
       "  </tbody>\n",
       "</table>\n",
       "</div>"
      ],
      "text/plain": [
       "           userID      itemID  rating   timestamp\n",
       "0  A2TYZ821XXK2YZ  3426958910       5  1370217600\n",
       "1  A3OFSREZADFUDY  3426958910       5  1412985600\n",
       "2  A2VAMODP8M77NG  3426958910       5  1392076800\n",
       "3   AAKSLZ9IDTEH0  3426958910       4  1386374400\n",
       "4  A3OH43OZJLKI09  5557706259       5  1465689600"
      ]
     },
     "execution_count": 14,
     "metadata": {},
     "output_type": "execute_result"
    }
   ],
   "source": [
    "df[[\"userID\", \"itemID\", \"rating\", \"timestamp\"]].head()"
   ]
  },
  {
   "cell_type": "markdown",
   "id": "97fa9dac",
   "metadata": {},
   "source": [
    "## Имплементируем модель на surprise"
   ]
  },
  {
   "cell_type": "code",
   "execution_count": 15,
   "id": "bd599ba1",
   "metadata": {},
   "outputs": [],
   "source": [
    "reader = Reader(line_format=\"user item rating timestamp\", rating_scale=(1, 5))\n",
    "data = Dataset.load_from_df(df[[\"userID\", \"itemID\", \"rating\"]], reader)"
   ]
  },
  {
   "cell_type": "code",
   "execution_count": 8,
   "id": "711216c5",
   "metadata": {},
   "outputs": [],
   "source": [
    "sim_options = {\n",
    "    'name': 'pearson_baseline',\n",
    "    'user_based': False\n",
    "}"
   ]
  },
  {
   "cell_type": "markdown",
   "id": "45725e0e",
   "metadata": {},
   "source": [
    "## Оценка модели"
   ]
  },
  {
   "cell_type": "code",
   "execution_count": 17,
   "id": "909ce962",
   "metadata": {},
   "outputs": [
    {
     "name": "stdout",
     "output_type": "stream",
     "text": [
      "Estimating biases using als...\n",
      "Computing the pearson_baseline similarity matrix...\n",
      "Done computing similarity matrix.\n",
      "Estimating biases using als...\n",
      "Computing the pearson_baseline similarity matrix...\n",
      "Done computing similarity matrix.\n",
      "Estimating biases using als...\n",
      "Computing the pearson_baseline similarity matrix...\n",
      "Done computing similarity matrix.\n",
      "Estimating biases using als...\n",
      "Computing the pearson_baseline similarity matrix...\n",
      "Done computing similarity matrix.\n",
      "Estimating biases using als...\n",
      "Computing the pearson_baseline similarity matrix...\n",
      "Done computing similarity matrix.\n",
      "Estimating biases using als...\n",
      "Computing the pearson_baseline similarity matrix...\n",
      "Done computing similarity matrix.\n",
      "Evaluating RMSE, MAE of algorithm KNNBasic on 5 split(s).\n",
      "\n",
      "                  Fold 1  Fold 2  Fold 3  Fold 4  Fold 5  Mean    Std     \n",
      "RMSE (testset)    0.5963  0.5746  0.5932  0.5969  0.5895  0.5901  0.0082  \n",
      "MAE (testset)     0.3036  0.2973  0.3032  0.3037  0.3006  0.3017  0.0025  \n",
      "Fit time          2.15    1.92    1.84    1.79    1.89    1.92    0.12    \n",
      "Test time         0.58    0.46    0.56    0.48    0.46    0.51    0.05    \n",
      "\n",
      "Mean test RMSE 0.59\n"
     ]
    }
   ],
   "source": [
    "rec_algo = KNNBasic(sim_options=sim_options)\n",
    "trainset = data.build_full_trainset()\n",
    "rec_algo.fit(trainset)\n",
    "kf = split.KFold(random_state=42, n_splits=5)\n",
    "print(f'\\nMean test RMSE ' + str(np.mean(cross_validate(rec_algo, data, measures=['RMSE', 'MAE'], \n",
    "                                                  cv=kf, verbose=1)['test_rmse']))[:4])"
   ]
  },
  {
   "cell_type": "markdown",
   "id": "95865c63",
   "metadata": {},
   "source": [
    "## Попробуем SVD"
   ]
  },
  {
   "cell_type": "code",
   "execution_count": 16,
   "id": "46c49ed3",
   "metadata": {},
   "outputs": [
    {
     "name": "stdout",
     "output_type": "stream",
     "text": [
      "Evaluating RMSE, MAE of algorithm SVD on 5 split(s).\n",
      "\n",
      "                  Fold 1  Fold 2  Fold 3  Fold 4  Fold 5  Mean    Std     \n",
      "RMSE (testset)    0.5618  0.5519  0.5636  0.5681  0.5625  0.5616  0.0053  \n",
      "MAE (testset)     0.3350  0.3314  0.3377  0.3369  0.3348  0.3352  0.0022  \n",
      "Fit time          1.27    1.26    1.38    1.26    1.31    1.30    0.05    \n",
      "Test time         0.12    0.12    0.12    0.13    0.12    0.12    0.00    \n",
      "\n",
      "Mean test RMSE 0.56\n"
     ]
    }
   ],
   "source": [
    "rec_algo = SVD()\n",
    "trainset = data.build_full_trainset()\n",
    "rec_algo.fit(trainset)\n",
    "kf = split.KFold(random_state=42, n_splits=5)\n",
    "print(f'\\nMean test RMSE ' + str(np.mean(cross_validate(rec_algo, data, measures=['RMSE', 'MAE'], \n",
    "                                                  cv=kf, verbose=1)['test_rmse']))[:4])"
   ]
  },
  {
   "cell_type": "code",
   "execution_count": null,
   "id": "01ae0823",
   "metadata": {},
   "outputs": [],
   "source": []
  }
 ],
 "metadata": {
  "kernelspec": {
   "display_name": "Python 3 (ipykernel)",
   "language": "python",
   "name": "python3"
  },
  "language_info": {
   "codemirror_mode": {
    "name": "ipython",
    "version": 3
   },
   "file_extension": ".py",
   "mimetype": "text/x-python",
   "name": "python",
   "nbconvert_exporter": "python",
   "pygments_lexer": "ipython3",
   "version": "3.8.15"
  }
 },
 "nbformat": 4,
 "nbformat_minor": 5
}
