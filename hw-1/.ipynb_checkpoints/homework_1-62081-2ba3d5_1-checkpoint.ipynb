{
 "cells": [
  {
   "cell_type": "markdown",
   "metadata": {},
   "source": [
    "# <center> Homework 1 </center>"
   ]
  },
  {
   "cell_type": "markdown",
   "metadata": {},
   "source": [
    "# 0. Где мы сейчас?\n",
    "<img src=\"https://upload.wikimedia.org/wikipedia/commons/thumb/3/38/Jupyter_logo.svg/1200px-Jupyter_logo.svg.png\" width=\"150\">\n",
    "\n",
    "[Jupyter Notebook](https://jupyter.org/) - интерактивная среда для запуска программного кода в браузере. Удобный инструмент для анализа данных, который используется многими специалистами по data science. Позволяет выполнять отдельные ячейки с кодом, а не всю программу сразу, что очень удобно при знакомстве с данными."
   ]
  },
  {
   "cell_type": "markdown",
   "metadata": {},
   "source": [
    "# 1. Python\n",
    "> Python - это свободный интерпретируемый объектно-ориентированный расширяемый встраиваемый язык программирования очень высокого уровня \n",
    "\n",
    ">*(Г.Россум, Ф.Л.Дж.Дрейк, Д.С.Откидач \"Язык программирования Python\").*\n",
    "\n",
    "А если без цитат, то питон - это просто очень крутой язык, созданный в 1991 году [Великодушным пожизненным диктатором](https://ru.wikipedia.org/wiki/%D0%92%D0%B5%D0%BB%D0%B8%D0%BA%D0%BE%D0%B4%D1%83%D1%88%D0%BD%D1%8B%D0%B9_%D0%BF%D0%BE%D0%B6%D0%B8%D0%B7%D0%BD%D0%B5%D0%BD%D0%BD%D1%8B%D0%B9_%D0%B4%D0%B8%D0%BA%D1%82%D0%B0%D1%82%D0%BE%D1%80) Гвидо ван Россумом и названный в честь любимого им шоу [Monty Python's Flying Circus](https://en.wikipedia.org/wiki/Monty_Python%27s_Flying_Circus)\n",
    "\n",
    "<img src=\"https://advancelocal-adapter-image-uploads.s3.amazonaws.com/image.oregonlive.com/home/olive-media/width2048/img/tv/photo/2018/10/10/montycastjpg-7ef393e2355a42aa.jpg\" width=\"300\">"
   ]
  },
  {
   "cell_type": "markdown",
   "metadata": {},
   "source": [
    "# 2. Anaconda\n",
    "\n",
    "<img src=\"https://cdn-images-1.medium.com/max/1600/0*MVkCW8_Bmj-nuAnI.png\" width=\"300\">\n",
    "\n",
    "[Сборка Anaconda](https://www.anaconda.com/products/individual) включает очень много полезных библиотек для анализа данных. \n",
    "\n",
    "Среди наиболее популярных библиотек:\n",
    " - <a href=\"http://numpy.org\">Numpy</a> - это один из основных пакетов для математических вычислений. Он содержит средства для работы с многомерными массивами и высокоуровневыми математическими функциями\n",
    " - <a href=\"https://www.scipy.org/\">SciPy</a> - научные вычисления. Методы оптимизации, интегрирования, модули обработки сигналов и изображений, статистика, линейная алгебра, сплайны, кластеризация и многое другое\n",
    " -  <a href=\"http://pandas.pydata.org/\">Pandas</a> - основная библиотека для обработки и анализа данных. Предназначена для данных разной природы - матричных, панельных данных, временных рядов. Претендует на звание самого мощного и гибкого средства для анализа данных с открытым исходным кодом\n",
    " - <a href=\"http://scikit-learn.org/stable/\">Scikit-learn</a> - реализация очень многих методов машинного обучения с отличной документацией. \n",
    " - <a href=\"http://http://matplotlib.org/\">matplotlib</a> - хорошая библиотека для визуализации данных"
   ]
  },
  {
   "cell_type": "markdown",
   "metadata": {},
   "source": [
    "# 3. Задачки"
   ]
  },
  {
   "cell_type": "markdown",
   "metadata": {},
   "source": [
    "## Задача 1\n",
    "$N$ хоббитов делят $K$ кусков эльфийского хлеба поровну, не делящийся нацело остаток остается в корзинке у Сэма. Напишите функцию, которая принимает на вход параметры $N$ и $K$ и возвращает два числа: $x$ - cколько кусков эльфиского хлеба достанется каждому хоббиту, и $y$ - сколько кусков остаётся в корзинке."
   ]
  },
  {
   "cell_type": "code",
   "execution_count": 1,
   "metadata": {},
   "outputs": [],
   "source": [
    "def share_bread(N, K):\n",
    "    x = K // N\n",
    "    y = K % N\n",
    "    return x, y\n",
    "\n",
    "# если в функции всё верно, то после выполнения этой строчки, не должно выскакивать ошибок\n",
    "assert share_bread(N=3, K=14) == (4, 2)"
   ]
  },
  {
   "cell_type": "markdown",
   "metadata": {},
   "source": [
    "## Задача 2\n",
    "\n",
    "В копях Мории хоббиты нашли стену, на которой высечены разные натуральные числа. Согласно древним сказаниям, это даты сражений. Хоббиты знают, что сражения происходили только по високосным годам. Помогите хоббитам определить, является ли год с данным числом датой великого сражения. Если это так, то верните строку \"YOU SHALL PASS\", иначе верните \"YOU SHALL NOT PASS\". Напомним, что в соответствии с хоббитским календарем, год является високосным, если его номер кратен 4, но не кратен 100, а также если он кратен 400."
   ]
  },
  {
   "cell_type": "code",
   "execution_count": 2,
   "metadata": {},
   "outputs": [],
   "source": [
    "def leap_year(year):\n",
    "    if (year % 4 == 0 and year % 100 !=0) or year % 400 == 0:\n",
    "        text_result = \"YOU SHALL PASS\"\n",
    "    else:\n",
    "        text_result = \"YOU SHALL NOT PASS\"\n",
    "    return text_result\n",
    "\n",
    "assert leap_year(5) == 'YOU SHALL NOT PASS'"
   ]
  },
  {
   "cell_type": "markdown",
   "metadata": {
    "tags": []
   },
   "source": [
    "## Задача 3\n",
    "<img src=\"http://i0.kym-cdn.com/photos/images/original/001/187/255/5e9.gif\" width=300>\n",
    "Для могущественного магического ритуала Гендальфу необходимо быстро подсчитывать площадь своего амулета, который умеет менять размеры. Известно, что амулет имеет форму треугольника и Гендальф знает длину каждой из сторон. Напишите функцию, которая считает площадь амулета по трем сторонам.  \n",
    "\n",
    "Подсказка: используйте формулу Герона\n",
    "$$ S = \\sqrt{p(p-a)(p-b)(p-c)} $$\n",
    "$$ p = \\frac{a + b + c}{2}$$\n"
   ]
  },
  {
   "cell_type": "code",
   "execution_count": 3,
   "metadata": {},
   "outputs": [],
   "source": [
    "def semi_perimeter(*args):\n",
    "    p = sum(args)/2\n",
    "    return p\n",
    "\n",
    "def amulet_area(a, b, c):\n",
    "    p =  semi_perimeter(a, b, c)\n",
    "    S = (p*(p-a)*(p-b)*(p-c))**0.5\n",
    "    return S\n",
    "\n",
    "assert amulet_area(3, 4, 5) == 6"
   ]
  },
  {
   "cell_type": "markdown",
   "metadata": {},
   "source": [
    "## Задача 4\n",
    "\n",
    "Хоббиты собираются пешком идти до Мордора и им нужно подсчитать расстояние, которое им предстоит пройти. Хоббиты смогли вспомнить сразу несколько метрик расстояния: евклидово, манхэттена и косинусное, так что ваша задача - напистаь функцию под каждую из них. Важное условие - используйте только базовые функции numpy для решения.\n",
    "\n",
    "\n",
    "* Евклидово расстояние\n",
    "$$ d(a, b) = \\sqrt{\\sum_i (a_i - b_i)^2} $$\n",
    "* Расстояние Манхэттена\n",
    "$$ d(a, b) = \\sum_i |a_i - b_i| $$\n",
    "* Косинусное расстояние\n",
    "$$ d(a, b) = 1 - \\frac{a^\\top b}{||a||_2\\cdot||b||_2}$$"
   ]
  },
  {
   "cell_type": "code",
   "execution_count": 4,
   "metadata": {},
   "outputs": [],
   "source": [
    "import numpy as np\n",
    "from scipy.spatial.distance import euclidean, "
   ]
  },
  {
   "cell_type": "code",
   "execution_count": 5,
   "metadata": {},
   "outputs": [],
   "source": [
    "def cal_euclidean(a, b):    \n",
    "    distance = (sum((a-b)**2))**0.5\n",
    "    return distance\n",
    "\n",
    "def cal_manhattan(a, b):    \n",
    "    distance = sum(abs(a-b))\n",
    "    return distance\n",
    "\n",
    "def cal_cosine(a, b):    \n",
    "    distance = sum(a*b)/(sum(a**2)**0.5 * sum(b**2)**0.5)\n",
    "    return distance"
   ]
  },
  {
   "cell_type": "code",
   "execution_count": 6,
   "metadata": {},
   "outputs": [
    {
     "name": "stdout",
     "output_type": "stream",
     "text": [
      "22.494443758403985\n",
      "48\n",
      "0.21936112704773383\n"
     ]
    }
   ],
   "source": [
    "a = np.random.randint(-10, 10, size=10)\n",
    "b = np.random.randint(-10, 10, size=10)\n",
    "print(cal_euclidean(a, b))\n",
    "print(cal_manhattan(a, b))\n",
    "print(cal_cosine(a, b))"
   ]
  },
  {
   "cell_type": "markdown",
   "metadata": {},
   "source": [
    "## Задача 5\n",
    "\n",
    "Ну и напоследок, еще немного практики numpy, без которой не обходится ни один хоббит.\n"
   ]
  },
  {
   "cell_type": "markdown",
   "metadata": {},
   "source": [
    "Создайте случайный array (`np.random.rand()`) длинной 100. Преобразуйте его так, чтобы\n",
    "* Максимальный элемент(ы) был равен 1\n",
    "* Минимальный элемент(ы) был равен 0\n",
    "* Остальные элементы в итнтервале от 0 до 1 остаются прежними"
   ]
  },
  {
   "cell_type": "code",
   "execution_count": 5,
   "metadata": {},
   "outputs": [
    {
     "name": "stdout",
     "output_type": "stream",
     "text": [
      "1.0 0.0\n",
      "[0.95521766 0.41099052 0.72251447 0.32273812 0.27716533 0.62825307\n",
      " 0.64745377 0.94508356 0.81327884 0.11181953 0.0271772  0.88103504\n",
      " 0.48499288 0.26359794 0.89777483 0.67830134 0.25215195 0.26766088\n",
      " 0.13785759 0.2363617  0.24267739 0.71139098 0.76081822 0.2196891\n",
      " 0.79365425 0.60330126 0.53431622 0.90069577 0.93233628 0.43182461\n",
      " 0.26922566 0.06810481 0.08161765 0.79624389 0.01152207 0.70295471\n",
      " 0.78884307 0.84198253 0.28539523 0.22320323 0.70566133 0.62867359\n",
      " 0.27444345 0.78730472 0.6935285  0.93157703 0.18693549 0.68188041\n",
      " 0.58665706 0.29224385 0.7675059  0.34129416 0.63068993 0.77355807\n",
      " 0.71229117 0.55962956 0.85477366 0.         0.62491342 0.91140882\n",
      " 0.16843333 0.60647714 0.95185799 0.56268204 0.78587327 0.31402955\n",
      " 0.49728175 0.37460631 0.21686483 0.36473551 0.29630328 0.70560841\n",
      " 0.59233935 0.63054326 0.42616702 0.73769216 0.16630872 0.54348964\n",
      " 0.7419699  0.89006998 0.89176282 0.74775982 0.648028   0.25136959\n",
      " 0.60814117 0.39166071 0.07983788 1.         0.01784104 0.09035481\n",
      " 0.71316754 0.07297184 0.15025286 0.75571321 0.61377056 0.49922283\n",
      " 0.18660119 0.28059975 0.78095857 0.10265275]\n"
     ]
    }
   ],
   "source": [
    "my_array = np.random.rand(100)\n",
    "my_array[my_array.argmax(axis=0)] = 1\n",
    "my_array[my_array.argmin(axis=0)] = 0\n",
    "print(np.max(my_array), np.min(my_array))\n",
    "print(my_array)"
   ]
  },
  {
   "cell_type": "markdown",
   "metadata": {},
   "source": [
    "Создайте array размером $5 \\times 6$ с целыми числами в интервале [0,50]. Напечатайте колонку, которая содержит максимальный элемент полученной матрицы "
   ]
  },
  {
   "cell_type": "code",
   "execution_count": 125,
   "metadata": {},
   "outputs": [
    {
     "name": "stdout",
     "output_type": "stream",
     "text": [
      "Shape:  (5, 6)\n",
      "Array\n",
      "Max value = 46\n",
      "[[34 34 14 46  9 45]\n",
      " [15 40 41 29 46 31]\n",
      " [ 4 15 31 10 25 44]\n",
      " [36 27 30 18 27 10]\n",
      " [34  5 22  0 43 19]]\n",
      "3\n"
     ]
    }
   ],
   "source": [
    "my_array = np.random.randint(0, 50, size=(5,6))\n",
    "selected_column = np.unravel_index(np.argmax(my_array, axis=None), my_array.shape)[1]\n",
    "print('Shape: ',my_array.shape)\n",
    "print('Array')\n",
    "print(f'Max value = {np.max(my_array)}')\n",
    "print(my_array)\n",
    "print(selected_column)"
   ]
  },
  {
   "cell_type": "markdown",
   "metadata": {},
   "source": [
    "Напишите функцию, которая принимает на вход матрицу (array) X и возвращает все её уникальные строки в виде новой матрицы."
   ]
  },
  {
   "cell_type": "code",
   "execution_count": 113,
   "metadata": {},
   "outputs": [],
   "source": [
    "def get_unique_rows(X):\n",
    "    X_unique = np.unique(X, axis=0)\n",
    "    return X_unique"
   ]
  },
  {
   "cell_type": "code",
   "execution_count": 118,
   "metadata": {},
   "outputs": [
    {
     "name": "stdout",
     "output_type": "stream",
     "text": [
      "[[5 4 4]\n",
      " [4 4 4]\n",
      " [4 5 5]\n",
      " [4 4 5]\n",
      " [5 4 4]\n",
      " [4 5 5]\n",
      " [5 4 4]\n",
      " [5 5 5]\n",
      " [4 4 5]\n",
      " [5 4 4]]\n"
     ]
    }
   ],
   "source": [
    "X = np.random.randint(4, 6, size=(10,3))\n",
    "print(X)"
   ]
  },
  {
   "cell_type": "code",
   "execution_count": 119,
   "metadata": {},
   "outputs": [
    {
     "data": {
      "text/plain": [
       "array([[4, 4, 4],\n",
       "       [4, 4, 5],\n",
       "       [4, 5, 5],\n",
       "       [5, 4, 4],\n",
       "       [5, 5, 5]])"
      ]
     },
     "execution_count": 119,
     "metadata": {},
     "output_type": "execute_result"
    }
   ],
   "source": [
    "get_unique_rows(X)"
   ]
  },
  {
   "cell_type": "code",
   "execution_count": null,
   "metadata": {},
   "outputs": [],
   "source": []
  }
 ],
 "metadata": {
  "kernelspec": {
   "display_name": "Python 3",
   "language": "python",
   "name": "python3"
  },
  "language_info": {
   "codemirror_mode": {
    "name": "ipython",
    "version": 3
   },
   "file_extension": ".py",
   "mimetype": "text/x-python",
   "name": "python",
   "nbconvert_exporter": "python",
   "pygments_lexer": "ipython3",
   "version": "3.8.3"
  },
  "varInspector": {
   "cols": {
    "lenName": 16,
    "lenType": 16,
    "lenVar": 40
   },
   "kernels_config": {
    "python": {
     "delete_cmd_postfix": "",
     "delete_cmd_prefix": "del ",
     "library": "var_list.py",
     "varRefreshCmd": "print(var_dic_list())"
    },
    "r": {
     "delete_cmd_postfix": ") ",
     "delete_cmd_prefix": "rm(",
     "library": "var_list.r",
     "varRefreshCmd": "cat(var_dic_list()) "
    }
   },
   "types_to_exclude": [
    "module",
    "function",
    "builtin_function_or_method",
    "instance",
    "_Feature"
   ],
   "window_display": false
  }
 },
 "nbformat": 4,
 "nbformat_minor": 4
}
