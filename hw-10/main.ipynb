{
 "cells": [
  {
   "cell_type": "code",
   "execution_count": 42,
   "id": "04745c0f",
   "metadata": {},
   "outputs": [],
   "source": [
    "import wikipediaapi as wiki"
   ]
  },
  {
   "cell_type": "code",
   "execution_count": 51,
   "id": "36bc5955",
   "metadata": {},
   "outputs": [],
   "source": [
    "wiki_wiki = wiki.Wikipedia('ru')\n",
    "page_py_1 = wiki_wiki.page('Категория:Кухни народов мира')\n",
    "page_py_2 = wiki_wiki.page('Категория:Кухни по странам')"
   ]
  },
  {
   "cell_type": "code",
   "execution_count": 55,
   "id": "c8b94630",
   "metadata": {},
   "outputs": [],
   "source": [
    "def get_categorymembers(categorymembers, level=0, max_level=0):\n",
    "        return categorymembers.values()\n",
    "\n",
    "cuisines_1 = get_categorymembers(page_py_1.categorymembers)\n",
    "cuisines_2 = get_categorymembers(page_py_2.categorymembers)\n",
    "\n",
    "cuisines_list = []\n",
    "for page in cuisines_1:\n",
    "    if 'Категория:' in page.title:\n",
    "        cuisines_list.append(page.title)\n",
    "\n",
    "for page in cuisines_2:\n",
    "    if 'Категория:' in page.title:\n",
    "        cuisines_list.append(page.title)"
   ]
  },
  {
   "cell_type": "code",
   "execution_count": 57,
   "id": "bb4567b4",
   "metadata": {},
   "outputs": [],
   "source": [
    "cuisines_list = list(set(cuisines_list))"
   ]
  },
  {
   "cell_type": "code",
   "execution_count": 59,
   "id": "6a8776f3",
   "metadata": {},
   "outputs": [
    {
     "data": {
      "text/plain": [
       "['Категория:Сирийская кухня',\n",
       " 'Категория:Филиппинская кухня',\n",
       " 'Категория:Кубинская кухня',\n",
       " 'Категория:Кухня Коста-Рики',\n",
       " 'Категория:Греческая кухня']"
      ]
     },
     "execution_count": 59,
     "metadata": {},
     "output_type": "execute_result"
    }
   ],
   "source": [
    "cuisines_list[:5]"
   ]
  },
  {
   "cell_type": "code",
   "execution_count": null,
   "id": "7374d723",
   "metadata": {
    "scrolled": false
   },
   "outputs": [],
   "source": [
    "import re\n",
    "\n",
    "dishes_by_countries = {}\n",
    "f = open('cuisines.txt', 'w')\n",
    "\n",
    "for cuisine in cuisines_list:\n",
    "    dishes = get_categorymembers(wiki_wiki.page(cuisine).categorymembers)\n",
    "    for dish in dishes:\n",
    "        print(dish.title)\n",
    "        summary = re.sub('^.*? — ', '', dish.summary)\n",
    "        punct = '[!\"#$%&()*+,./:;<=>?@[\\]^_`{|}~„“«»†*/\\—–‘’]'\n",
    "        nums = '[0-9]'\n",
    "        summary = re.sub('\\n', ' ', summary)\n",
    "        summary = re.sub(punct, '', summary)\n",
    "        summary = re.sub(nums, '', summary)\n",
    "        summary = re.sub(r'(?![А-яё ]).', '', summary)\n",
    "        try:\n",
    "            f.write(summary + \" \")\n",
    "        except Exception:\n",
    "            print(summary)    \n",
    "    f.write('\\n\\n\\n')"
   ]
  }
 ],
 "metadata": {
  "kernelspec": {
   "display_name": "Python 3 (ipykernel)",
   "language": "python",
   "name": "python3"
  },
  "language_info": {
   "codemirror_mode": {
    "name": "ipython",
    "version": 3
   },
   "file_extension": ".py",
   "mimetype": "text/x-python",
   "name": "python",
   "nbconvert_exporter": "python",
   "pygments_lexer": "ipython3",
   "version": "3.9.7"
  }
 },
 "nbformat": 4,
 "nbformat_minor": 5
}
