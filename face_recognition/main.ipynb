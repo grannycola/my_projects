{
 "cells": [
  {
   "cell_type": "code",
   "execution_count": 48,
   "id": "dd8ddbdd",
   "metadata": {},
   "outputs": [],
   "source": [
    "import os\n",
    "from pathlib import Path\n",
    "from deepface import DeepFace\n",
    "import numpy as np"
   ]
  },
  {
   "cell_type": "code",
   "execution_count": 49,
   "id": "84483c39",
   "metadata": {},
   "outputs": [],
   "source": [
    "persons = []"
   ]
  },
  {
   "cell_type": "code",
   "execution_count": 50,
   "id": "cd6ce667",
   "metadata": {},
   "outputs": [],
   "source": [
    "try:\n",
    "    os.mkdir(\"dataset\")\n",
    "    os.mkdir(\"dataset/train\")\n",
    "    os.mkdir(\"dataset/test\")\n",
    "except FileExistsError:\n",
    "    pass"
   ]
  },
  {
   "cell_type": "code",
   "execution_count": 51,
   "id": "8b250ff8",
   "metadata": {},
   "outputs": [],
   "source": [
    "TEST_SIZE = 0.333"
   ]
  },
  {
   "cell_type": "code",
   "execution_count": 54,
   "id": "e06dd14b",
   "metadata": {},
   "outputs": [],
   "source": [
    "for dir_ in os.listdir('lfw/'):\n",
    "    folder = Path('lfw/' + dir_)\n",
    "    num_photos = len(list(folder.iterdir()))\n",
    "    \n",
    "    # Если изображений больше, чем 2 отберем их для train/test выборки\n",
    "    if num_photos > 2:\n",
    "        z = 0\n",
    "        \n",
    "        # Сколько изображений взять для теста\n",
    "        n_tests_images = int(num_photos * TEST_SIZE)\n",
    "        n_tests_images = 1 if n_tests_images==0 else n_tests_images\n",
    "        \n",
    "        persons.append(dir_)\n",
    "        \n",
    "        for img in os.listdir('lfw/' + dir_):\n",
    "            src = Path(f'lfw/{dir_}/{img}')\n",
    "            \n",
    "            # Распределение файлов в зависимсоти от размера test части\n",
    "            if z < n_tests_images:\n",
    "                dest_to_test = Path(f'dataset/test/{img}')\n",
    "                dest_to_test.write_bytes(src.read_bytes())\n",
    "                z += 1\n",
    "            else:\n",
    "                dest_to_train = Path(f'dataset/train/{img}')\n",
    "                dest_to_train.write_bytes(src.read_bytes())"
   ]
  },
  {
   "cell_type": "code",
   "execution_count": 57,
   "id": "099cb11b",
   "metadata": {},
   "outputs": [
    {
     "name": "stdout",
     "output_type": "stream",
     "text": [
      "1/1 [==============================] - 0s 185ms/step\n",
      "(2622,)\n"
     ]
    }
   ],
   "source": [
    "for filename in os.listdir('dataset/test'):\n",
    "    path = f'dataset/test/{filename}'\n",
    "    embedding = DeepFace.represent(img_path = path)\n",
    "    print(np.array(embedding).shape)\n",
    "    break"
   ]
  },
  {
   "cell_type": "code",
   "execution_count": null,
   "id": "54b74d52",
   "metadata": {},
   "outputs": [],
   "source": []
  }
 ],
 "metadata": {
  "kernelspec": {
   "display_name": "Python 3 (ipykernel)",
   "language": "python",
   "name": "python3"
  },
  "language_info": {
   "codemirror_mode": {
    "name": "ipython",
    "version": 3
   },
   "file_extension": ".py",
   "mimetype": "text/x-python",
   "name": "python",
   "nbconvert_exporter": "python",
   "pygments_lexer": "ipython3",
   "version": "3.8.13"
  }
 },
 "nbformat": 4,
 "nbformat_minor": 5
}
