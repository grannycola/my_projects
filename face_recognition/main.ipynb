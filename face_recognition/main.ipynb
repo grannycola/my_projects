{
 "cells": [
  {
   "cell_type": "code",
   "execution_count": 163,
   "id": "dd8ddbdd",
   "metadata": {},
   "outputs": [],
   "source": [
    "import os\n",
    "from pathlib import Path\n",
    "from deepface import DeepFace\n",
    "import numpy as np\n",
    "import matplotlib.pyplot as plt\n",
    "import pandas as pd\n",
    "from tqdm import tqdm"
   ]
  },
  {
   "cell_type": "code",
   "execution_count": 171,
   "id": "a4872484",
   "metadata": {},
   "outputs": [],
   "source": [
    "from IPython.utils import io"
   ]
  },
  {
   "cell_type": "code",
   "execution_count": 50,
   "id": "cd6ce667",
   "metadata": {},
   "outputs": [],
   "source": [
    "# try:\n",
    "#     os.mkdir(\"dataset\")\n",
    "#     os.mkdir(\"dataset/train\")\n",
    "#     os.mkdir(\"dataset/test\")\n",
    "# except FileExistsError:\n",
    "#     pass"
   ]
  },
  {
   "cell_type": "code",
   "execution_count": 54,
   "id": "e06dd14b",
   "metadata": {},
   "outputs": [],
   "source": [
    "# TEST_SIZE = 0.333\n",
    "# persons = []\n",
    "# for dir_ in os.listdir('lfw/'):\n",
    "#     folder = Path('lfw/' + dir_)\n",
    "#     num_photos = len(list(folder.iterdir()))\n",
    "    \n",
    "#     # Если изображений больше, чем 2 отберем их для train/test выборки\n",
    "#     if num_photos > 2:\n",
    "#         z = 0\n",
    "        \n",
    "#         # Сколько изображений взять для теста\n",
    "#         n_tests_images = int(num_photos * TEST_SIZE)\n",
    "#         n_tests_images = 1 if n_tests_images==0 else n_tests_images\n",
    "        \n",
    "#         persons.append(dir_)\n",
    "        \n",
    "#         for img in os.listdir('lfw/' + dir_):\n",
    "#             src = Path(f'lfw/{dir_}/{img}')\n",
    "            \n",
    "#             # Распределение файлов в зависимсоти от размера test части\n",
    "#             if z < n_tests_images:\n",
    "#                 dest_to_test = Path(f'dataset/test/{img}')\n",
    "#                 dest_to_test.write_bytes(src.read_bytes())\n",
    "#                 z += 1\n",
    "#             else:\n",
    "#                 dest_to_train = Path(f'dataset/train/{img}')\n",
    "#                 dest_to_train.write_bytes(src.read_bytes())"
   ]
  },
  {
   "cell_type": "code",
   "execution_count": 175,
   "id": "099cb11b",
   "metadata": {},
   "outputs": [
    {
     "name": "stderr",
     "output_type": "stream",
     "text": [
      "100%|██████████| 5427/5427 [27:56<00:00,  3.24it/s]\n"
     ]
    }
   ],
   "source": [
    "# Создание трейнового массива\n",
    "\n",
    "X_train = np.empty((1, 2622))\n",
    "y_train = np.empty(1)\n",
    "for filename in tqdm(os.listdir('dataset/train')):\n",
    "    path = f'dataset/train/{filename}'\n",
    "    \n",
    "    try:\n",
    "        # Перехват вывода исполнения команды в контексте\n",
    "        with io.capture_output() as captured:\n",
    "            embedding = np.array(DeepFace.represent(img_path = path)).reshape(1, -1)\n",
    "    # Если не удалось распознать лицо, то запишем NaN\n",
    "    except ValueError:\n",
    "        nan_arr = np.empty((1,2622))\n",
    "        nan_arr[:] = np.nan\n",
    "        X_train = np.append(X_train, nan_arr, axis=0)\n",
    "        y_train = np.append(y_train, filename)\n",
    "        continue\n",
    "    \n",
    "    X_train = np.append(X_train, embedding, axis=0)\n",
    "    y_train = np.append(y_train, filename)"
   ]
  },
  {
   "cell_type": "code",
   "execution_count": 176,
   "id": "033a905a",
   "metadata": {},
   "outputs": [
    {
     "data": {
      "text/plain": [
       "113857728"
      ]
     },
     "execution_count": 176,
     "metadata": {},
     "output_type": "execute_result"
    }
   ],
   "source": [
    "X_train.nbytes"
   ]
  },
  {
   "cell_type": "code",
   "execution_count": 177,
   "id": "d14ee270",
   "metadata": {},
   "outputs": [],
   "source": [
    "with open('X_train.npy', 'wb') as f:\n",
    "    np.save(f, X_train)\n",
    "with open('y_train.npy', 'wb') as f:\n",
    "    np.save(f, y_train)"
   ]
  },
  {
   "cell_type": "code",
   "execution_count": null,
   "id": "1685e9da",
   "metadata": {},
   "outputs": [],
   "source": []
  }
 ],
 "metadata": {
  "kernelspec": {
   "display_name": "Python 3 (ipykernel)",
   "language": "python",
   "name": "python3"
  },
  "language_info": {
   "codemirror_mode": {
    "name": "ipython",
    "version": 3
   },
   "file_extension": ".py",
   "mimetype": "text/x-python",
   "name": "python",
   "nbconvert_exporter": "python",
   "pygments_lexer": "ipython3",
   "version": "3.8.13"
  }
 },
 "nbformat": 4,
 "nbformat_minor": 5
}
